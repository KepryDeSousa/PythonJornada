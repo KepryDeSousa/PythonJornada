{
  "nbformat": 4,
  "nbformat_minor": 0,
  "metadata": {
    "colab": {
      "name": "JornadaPython",
      "provenance": [],
      "collapsed_sections": [],
      "authorship_tag": "ABX9TyOL1/o9K3CSKu/vJxCl3P94",
      "include_colab_link": true
    },
    "kernelspec": {
      "name": "python3",
      "display_name": "Python 3"
    },
    "language_info": {
      "name": "python"
    }
  },
  "cells": [
    {
      "cell_type": "markdown",
      "metadata": {
        "id": "view-in-github",
        "colab_type": "text"
      },
      "source": [
        "<a href=\"https://colab.research.google.com/github/KepryDeSousa/PythonJornada/blob/main/JornadaPython.ipynb\" target=\"_parent\"><img src=\"https://colab.research.google.com/assets/colab-badge.svg\" alt=\"Open In Colab\"/></a>"
      ]
    },
    {
      "cell_type": "markdown",
      "source": [
        "***Iniciando a Jornada*** "
      ],
      "metadata": {
        "id": "lM3KscteoEph"
      }
    },
    {
      "cell_type": "code",
      "source": [
        "#Variaveis\n",
        "inteiro = 1\n",
        "print(inteiro)"
      ],
      "metadata": {
        "colab": {
          "base_uri": "https://localhost:8080/"
        },
        "id": "QmkxKi22oPPV",
        "outputId": "fbcbf42c-7daa-4a82-9176-73ee3b607ea7"
      },
      "execution_count": 2,
      "outputs": [
        {
          "output_type": "stream",
          "name": "stdout",
          "text": [
            "1\n"
          ]
        }
      ]
    },
    {
      "cell_type": "code",
      "source": [
        "variavel = \"Palavras são Strings\""
      ],
      "metadata": {
        "id": "CjXXyfSnobvj"
      },
      "execution_count": 3,
      "outputs": []
    },
    {
      "cell_type": "code",
      "source": [
        "variavel = input('Entre com o seu nome')\n",
        "print(variavel)"
      ],
      "metadata": {
        "colab": {
          "base_uri": "https://localhost:8080/"
        },
        "id": "yFk5VGyhoh-S",
        "outputId": "0b2e69d5-7eca-497e-b42b-a3d281d6f496"
      },
      "execution_count": 12,
      "outputs": [
        {
          "output_type": "stream",
          "name": "stdout",
          "text": [
            "Entre com o seu nomeEu \n",
            "Eu \n"
          ]
        }
      ]
    },
    {
      "cell_type": "markdown",
      "source": [
        "Como visto em acima as nossas variaveis diferentemente das demais linguagens de programação não precisam ser iniciandas com um tipo de variavél inicialmente\n"
      ],
      "metadata": {
        "id": "HrJcAda2pDB5"
      }
    },
    {
      "cell_type": "markdown",
      "source": [
        "Por se tratar de uma linguagem de alto nível vemos que os comandos esteticamente falando são bem proximos da fala como um todo\n"
      ],
      "metadata": {
        "id": "ZPxc3_Nfp8zS"
      }
    },
    {
      "cell_type": "markdown",
      "source": [
        "Valendo ressaltar que, as linguagens de baixo nível (mais perto de linguagem de maquina) tem um desempenho maior em relação as linguagens de alta\n",
        "\n"
      ],
      "metadata": {
        "id": "taWK4oBPqu6r"
      }
    },
    {
      "cell_type": "code",
      "source": [
        ""
      ],
      "metadata": {
        "id": "rFkYzXD_qPrU"
      },
      "execution_count": null,
      "outputs": []
    },
    {
      "cell_type": "markdown",
      "source": [
        "***Funções***"
      ],
      "metadata": {
        "id": "GhXGEKzbrXva"
      }
    },
    {
      "cell_type": "code",
      "source": [
        "def fun(nome):\n",
        "  return f'{nome}'\n"
      ],
      "metadata": {
        "id": "bTmeudg6roET"
      },
      "execution_count": 14,
      "outputs": []
    },
    {
      "cell_type": "code",
      "source": [
        "nome = input('Escreva seu nome: ')\n",
        "fun(nome)"
      ],
      "metadata": {
        "colab": {
          "base_uri": "https://localhost:8080/",
          "height": 53
        },
        "id": "Qna_8s19rwT-",
        "outputId": "25e9b8f6-99ae-4fb5-877b-0ee18583d5e6"
      },
      "execution_count": 15,
      "outputs": [
        {
          "name": "stdout",
          "output_type": "stream",
          "text": [
            "Escreva seu nome: Jorge\n"
          ]
        },
        {
          "output_type": "execute_result",
          "data": {
            "text/plain": [
              "'Jorge'"
            ],
            "application/vnd.google.colaboratory.intrinsic+json": {
              "type": "string"
            }
          },
          "metadata": {},
          "execution_count": 15
        }
      ]
    },
    {
      "cell_type": "markdown",
      "source": [
        "String"
      ],
      "metadata": {
        "id": "x7ZyFCMms5J6"
      }
    },
    {
      "cell_type": "markdown",
      "source": [
        "É interessante ver como o python trabalha com suas strings\n"
      ],
      "metadata": {
        "id": "IV8yZAMysq-r"
      }
    },
    {
      "cell_type": "code",
      "source": [
        "def letras_Do_Nome(nome1):\n",
        "    matriz = list(nome1)\n",
        "    return matriz\n",
        "\n",
        "  "
      ],
      "metadata": {
        "id": "ppqlyCKrr2IN"
      },
      "execution_count": 28,
      "outputs": []
    },
    {
      "cell_type": "markdown",
      "source": [
        ""
      ],
      "metadata": {
        "id": "l3g11j4Cs4IC"
      }
    },
    {
      "cell_type": "code",
      "source": [
        "nome = 'outroNome'\n",
        "letras_Do_Nome(nome)"
      ],
      "metadata": {
        "colab": {
          "base_uri": "https://localhost:8080/"
        },
        "id": "J6CnYuc5sJzz",
        "outputId": "3cdffda7-4fde-4da4-c7df-8e6ad841b8fa"
      },
      "execution_count": 29,
      "outputs": [
        {
          "output_type": "execute_result",
          "data": {
            "text/plain": [
              "['o', 'u', 't', 'r', 'o', 'N', 'o', 'm', 'e']"
            ]
          },
          "metadata": {},
          "execution_count": 29
        }
      ]
    },
    {
      "cell_type": "code",
      "source": [
        ""
      ],
      "metadata": {
        "id": "oRAw-jf6sZhZ"
      },
      "execution_count": null,
      "outputs": []
    },
    {
      "cell_type": "markdown",
      "source": [
        "Condicional"
      ],
      "metadata": {
        "id": "2UENRdiBs-Aa"
      }
    },
    {
      "cell_type": "code",
      "source": [
        "idade = 15\n",
        "\n",
        "def verica_se_pode_dirigir(idade):\n",
        "  if idade >= 18:\n",
        "   print('Tem permissão para dirigir')\n",
        "  else:\n",
        "    print('Não tem permissão para dirigir')"
      ],
      "metadata": {
        "id": "WAtWoIzttQMj"
      },
      "execution_count": 33,
      "outputs": []
    },
    {
      "cell_type": "code",
      "source": [
        "verica_se_pode_dirigir(20)"
      ],
      "metadata": {
        "colab": {
          "base_uri": "https://localhost:8080/"
        },
        "id": "zrBdK6_UtSTI",
        "outputId": "e28d42f4-d6ab-4019-ad59-6f1095bf4741"
      },
      "execution_count": 34,
      "outputs": [
        {
          "output_type": "stream",
          "name": "stdout",
          "text": [
            "Tem permissão para dirigir\n"
          ]
        }
      ]
    },
    {
      "cell_type": "code",
      "source": [
        "num = input('Entre com um valor:')\n",
        "print(type(num))\n",
        "num = int(input('Entre com um valor:'))\n",
        "print(type(num))"
      ],
      "metadata": {
        "colab": {
          "base_uri": "https://localhost:8080/"
        },
        "id": "c4GVnyxXtzU4",
        "outputId": "9d0a6c6b-5b84-454a-83b9-bb86d47bb1d4"
      },
      "execution_count": 38,
      "outputs": [
        {
          "output_type": "stream",
          "name": "stdout",
          "text": [
            "Entre com um valor:10\n",
            "<class 'str'>\n",
            "Entre com um valor:10\n",
            "<class 'int'>\n"
          ]
        }
      ]
    },
    {
      "cell_type": "markdown",
      "source": [
        "como vemos anteriormente, quando entramos com um valor no input ele assume que ele será um valor do tipo String, contudo atribuindo o tipo de valor nos passamos a ter um novo tipo "
      ],
      "metadata": {
        "id": "iedxPRNYuGMz"
      }
    },
    {
      "cell_type": "markdown",
      "source": [
        "Abrir com dois cicks° \n",
        "\n",
        "Operadores | Descriçao\n",
        "a == b\t   | igual a b\n",
        "a < b\t     | menor do que b\n",
        "a > b\t     | maior do que b\n",
        "a <= b\t   | menor ou igual a b\n",
        "a >= b\t   | maior ou igual a b\n"
      ],
      "metadata": {
        "id": "2FWuSHwt0ufe"
      }
    },
    {
      "cell_type": "code",
      "source": [
        ""
      ],
      "metadata": {
        "id": "6voxw6dM03gH"
      },
      "execution_count": null,
      "outputs": []
    }
  ]
}